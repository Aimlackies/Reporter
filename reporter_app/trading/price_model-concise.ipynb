{
 "cells": [
  {
   "cell_type": "code",
   "execution_count": 1,
   "metadata": {},
   "outputs": [],
   "source": [
    "import matplotlib.pyplot as plt\n",
    "import numpy as np\n",
    "import os\n",
    "import pandas as pd\n",
    "import pickle\n",
    "import re\n",
    "from sklearn.model_selection import train_test_split\n",
    "from sklearn.neural_network import MLPRegressor\n",
    "from sklearn.preprocessing import StandardScaler\n",
    "import tensorflow as tf\n",
    "from tensorflow import keras\n",
    "from tensorflow.keras import layers\n",
    "from tensorflow.keras import backend as K\n",
    "\n"
   ]
  },
  {
   "cell_type": "code",
   "execution_count": 2,
   "metadata": {},
   "outputs": [],
   "source": [
    "import requests\n",
    "from datetime import date, timedelta\n",
    "from datetime import datetime as dt\n",
    "import pytest\n",
    "import os\n",
    "# from api_call_examples import *\n",
    "import json\n",
    "import pandas as pd\n",
    "import numpy as np\n",
    "import sqlalchemy as db\n",
    "import datetime"
   ]
  },
  {
   "cell_type": "markdown",
   "metadata": {
    "heading_collapsed": true
   },
   "source": [
    "#### Initial Exploration"
   ]
  },
  {
   "cell_type": "code",
   "execution_count": 4,
   "metadata": {
    "hidden": true
   },
   "outputs": [],
   "source": [
    "data=pd.read_csv(\"./2021/n2au2101.csv\",skiprows=4).drop([0,1,2,3])"
   ]
  },
  {
   "cell_type": "code",
   "execution_count": 5,
   "metadata": {
    "hidden": true
   },
   "outputs": [
    {
     "data": {
      "text/html": [
       "<div>\n",
       "<style scoped>\n",
       "    .dataframe tbody tr th:only-of-type {\n",
       "        vertical-align: middle;\n",
       "    }\n",
       "\n",
       "    .dataframe tbody tr th {\n",
       "        vertical-align: top;\n",
       "    }\n",
       "\n",
       "    .dataframe thead th {\n",
       "        text-align: right;\n",
       "    }\n",
       "</style>\n",
       "<table border=\"1\" class=\"dataframe\">\n",
       "  <thead>\n",
       "    <tr style=\"text-align: right;\">\n",
       "      <th></th>\n",
       "      <th># Data type</th>\n",
       "      <th>Code</th>\n",
       "      <th>Year</th>\n",
       "      <th>Week</th>\n",
       "      <th>Day</th>\n",
       "      <th>Date(dd.mm.yyyy)</th>\n",
       "      <th>Alias</th>\n",
       "      <th>Unit</th>\n",
       "      <th>Hour1</th>\n",
       "      <th>Hour2</th>\n",
       "      <th>...</th>\n",
       "      <th>Hour16</th>\n",
       "      <th>Hour17</th>\n",
       "      <th>Hour18</th>\n",
       "      <th>Hour19</th>\n",
       "      <th>Hour20</th>\n",
       "      <th>Hour21</th>\n",
       "      <th>Hour22</th>\n",
       "      <th>Hour23</th>\n",
       "      <th>Hour24</th>\n",
       "      <th>Avg/Total</th>\n",
       "    </tr>\n",
       "  </thead>\n",
       "  <tbody>\n",
       "    <tr>\n",
       "      <th>4</th>\n",
       "      <td>PR</td>\n",
       "      <td>AO</td>\n",
       "      <td>2021</td>\n",
       "      <td>1.0</td>\n",
       "      <td>1.0</td>\n",
       "      <td>04.01.2021</td>\n",
       "      <td>UK</td>\n",
       "      <td>GBP</td>\n",
       "      <td>56.98</td>\n",
       "      <td>56.97</td>\n",
       "      <td>...</td>\n",
       "      <td>60.06</td>\n",
       "      <td>60.11</td>\n",
       "      <td>73.92</td>\n",
       "      <td>100.40</td>\n",
       "      <td>83.98</td>\n",
       "      <td>72.50</td>\n",
       "      <td>60.03</td>\n",
       "      <td>57.06</td>\n",
       "      <td>54.72</td>\n",
       "      <td>60.70</td>\n",
       "    </tr>\n",
       "    <tr>\n",
       "      <th>5</th>\n",
       "      <td>TU</td>\n",
       "      <td>AB</td>\n",
       "      <td>2021</td>\n",
       "      <td>1.0</td>\n",
       "      <td>1.0</td>\n",
       "      <td>04.01.2021</td>\n",
       "      <td>UK</td>\n",
       "      <td>MWh</td>\n",
       "      <td>5422.80</td>\n",
       "      <td>4991.80</td>\n",
       "      <td>...</td>\n",
       "      <td>8447.60</td>\n",
       "      <td>9131.30</td>\n",
       "      <td>8881.80</td>\n",
       "      <td>10011.90</td>\n",
       "      <td>9534.80</td>\n",
       "      <td>8971.90</td>\n",
       "      <td>7007.60</td>\n",
       "      <td>6356.60</td>\n",
       "      <td>6914.40</td>\n",
       "      <td>180879.20</td>\n",
       "    </tr>\n",
       "    <tr>\n",
       "      <th>6</th>\n",
       "      <td>TU</td>\n",
       "      <td>AS</td>\n",
       "      <td>2021</td>\n",
       "      <td>1.0</td>\n",
       "      <td>1.0</td>\n",
       "      <td>04.01.2021</td>\n",
       "      <td>UK</td>\n",
       "      <td>MWh</td>\n",
       "      <td>5422.80</td>\n",
       "      <td>4991.80</td>\n",
       "      <td>...</td>\n",
       "      <td>8447.60</td>\n",
       "      <td>9131.30</td>\n",
       "      <td>8881.80</td>\n",
       "      <td>10011.90</td>\n",
       "      <td>9534.80</td>\n",
       "      <td>8971.90</td>\n",
       "      <td>7007.60</td>\n",
       "      <td>6356.60</td>\n",
       "      <td>6914.40</td>\n",
       "      <td>180879.20</td>\n",
       "    </tr>\n",
       "    <tr>\n",
       "      <th>7</th>\n",
       "      <td>PR</td>\n",
       "      <td>AO</td>\n",
       "      <td>2021</td>\n",
       "      <td>1.0</td>\n",
       "      <td>2.0</td>\n",
       "      <td>05.01.2021</td>\n",
       "      <td>UK</td>\n",
       "      <td>GBP</td>\n",
       "      <td>55.95</td>\n",
       "      <td>54.01</td>\n",
       "      <td>...</td>\n",
       "      <td>57.92</td>\n",
       "      <td>57.44</td>\n",
       "      <td>77.72</td>\n",
       "      <td>103.75</td>\n",
       "      <td>88.00</td>\n",
       "      <td>74.00</td>\n",
       "      <td>57.00</td>\n",
       "      <td>53.99</td>\n",
       "      <td>48.95</td>\n",
       "      <td>60.88</td>\n",
       "    </tr>\n",
       "    <tr>\n",
       "      <th>8</th>\n",
       "      <td>TU</td>\n",
       "      <td>AB</td>\n",
       "      <td>2021</td>\n",
       "      <td>1.0</td>\n",
       "      <td>2.0</td>\n",
       "      <td>05.01.2021</td>\n",
       "      <td>UK</td>\n",
       "      <td>MWh</td>\n",
       "      <td>5193.50</td>\n",
       "      <td>5161.10</td>\n",
       "      <td>...</td>\n",
       "      <td>9577.70</td>\n",
       "      <td>10923.90</td>\n",
       "      <td>9975.40</td>\n",
       "      <td>10570.90</td>\n",
       "      <td>9924.20</td>\n",
       "      <td>9696.60</td>\n",
       "      <td>8768.10</td>\n",
       "      <td>8180.70</td>\n",
       "      <td>8673.90</td>\n",
       "      <td>197089.50</td>\n",
       "    </tr>\n",
       "    <tr>\n",
       "      <th>9</th>\n",
       "      <td>TU</td>\n",
       "      <td>AS</td>\n",
       "      <td>2021</td>\n",
       "      <td>1.0</td>\n",
       "      <td>2.0</td>\n",
       "      <td>05.01.2021</td>\n",
       "      <td>UK</td>\n",
       "      <td>MWh</td>\n",
       "      <td>5193.50</td>\n",
       "      <td>5161.10</td>\n",
       "      <td>...</td>\n",
       "      <td>9577.70</td>\n",
       "      <td>10923.90</td>\n",
       "      <td>9975.40</td>\n",
       "      <td>10570.90</td>\n",
       "      <td>9924.20</td>\n",
       "      <td>9696.60</td>\n",
       "      <td>8768.10</td>\n",
       "      <td>8180.70</td>\n",
       "      <td>8673.90</td>\n",
       "      <td>197089.50</td>\n",
       "    </tr>\n",
       "    <tr>\n",
       "      <th>10</th>\n",
       "      <td>PR</td>\n",
       "      <td>AO</td>\n",
       "      <td>2021</td>\n",
       "      <td>1.0</td>\n",
       "      <td>3.0</td>\n",
       "      <td>06.01.2021</td>\n",
       "      <td>UK</td>\n",
       "      <td>GBP</td>\n",
       "      <td>46.49</td>\n",
       "      <td>46.41</td>\n",
       "      <td>...</td>\n",
       "      <td>90.39</td>\n",
       "      <td>75.00</td>\n",
       "      <td>563.04</td>\n",
       "      <td>1000.04</td>\n",
       "      <td>383.28</td>\n",
       "      <td>156.74</td>\n",
       "      <td>80.30</td>\n",
       "      <td>55.06</td>\n",
       "      <td>51.06</td>\n",
       "      <td>145.08</td>\n",
       "    </tr>\n",
       "    <tr>\n",
       "      <th>11</th>\n",
       "      <td>TU</td>\n",
       "      <td>AB</td>\n",
       "      <td>2021</td>\n",
       "      <td>1.0</td>\n",
       "      <td>3.0</td>\n",
       "      <td>06.01.2021</td>\n",
       "      <td>UK</td>\n",
       "      <td>MWh</td>\n",
       "      <td>8176.10</td>\n",
       "      <td>7721.40</td>\n",
       "      <td>...</td>\n",
       "      <td>10461.30</td>\n",
       "      <td>10035.80</td>\n",
       "      <td>9301.20</td>\n",
       "      <td>9543.30</td>\n",
       "      <td>9986.20</td>\n",
       "      <td>10607.00</td>\n",
       "      <td>9118.20</td>\n",
       "      <td>8470.50</td>\n",
       "      <td>8859.30</td>\n",
       "      <td>223287.10</td>\n",
       "    </tr>\n",
       "    <tr>\n",
       "      <th>12</th>\n",
       "      <td>TU</td>\n",
       "      <td>AS</td>\n",
       "      <td>2021</td>\n",
       "      <td>1.0</td>\n",
       "      <td>3.0</td>\n",
       "      <td>06.01.2021</td>\n",
       "      <td>UK</td>\n",
       "      <td>MWh</td>\n",
       "      <td>8176.10</td>\n",
       "      <td>7721.40</td>\n",
       "      <td>...</td>\n",
       "      <td>10461.30</td>\n",
       "      <td>10035.80</td>\n",
       "      <td>9301.20</td>\n",
       "      <td>9543.30</td>\n",
       "      <td>9986.20</td>\n",
       "      <td>10607.00</td>\n",
       "      <td>9118.20</td>\n",
       "      <td>8470.50</td>\n",
       "      <td>8859.30</td>\n",
       "      <td>223287.10</td>\n",
       "    </tr>\n",
       "    <tr>\n",
       "      <th>13</th>\n",
       "      <td>PR</td>\n",
       "      <td>AO</td>\n",
       "      <td>2021</td>\n",
       "      <td>1.0</td>\n",
       "      <td>4.0</td>\n",
       "      <td>07.01.2021</td>\n",
       "      <td>UK</td>\n",
       "      <td>GBP</td>\n",
       "      <td>55.02</td>\n",
       "      <td>52.90</td>\n",
       "      <td>...</td>\n",
       "      <td>81.09</td>\n",
       "      <td>78.96</td>\n",
       "      <td>120.08</td>\n",
       "      <td>489.60</td>\n",
       "      <td>159.92</td>\n",
       "      <td>87.41</td>\n",
       "      <td>67.95</td>\n",
       "      <td>57.18</td>\n",
       "      <td>52.01</td>\n",
       "      <td>91.80</td>\n",
       "    </tr>\n",
       "  </tbody>\n",
       "</table>\n",
       "<p>10 rows × 34 columns</p>\n",
       "</div>"
      ],
      "text/plain": [
       "   # Data type Code  Year  Week  Day Date(dd.mm.yyyy) Alias Unit    Hour1  \\\n",
       "4           PR   AO  2021   1.0  1.0       04.01.2021    UK  GBP    56.98   \n",
       "5           TU   AB  2021   1.0  1.0       04.01.2021    UK  MWh  5422.80   \n",
       "6           TU   AS  2021   1.0  1.0       04.01.2021    UK  MWh  5422.80   \n",
       "7           PR   AO  2021   1.0  2.0       05.01.2021    UK  GBP    55.95   \n",
       "8           TU   AB  2021   1.0  2.0       05.01.2021    UK  MWh  5193.50   \n",
       "9           TU   AS  2021   1.0  2.0       05.01.2021    UK  MWh  5193.50   \n",
       "10          PR   AO  2021   1.0  3.0       06.01.2021    UK  GBP    46.49   \n",
       "11          TU   AB  2021   1.0  3.0       06.01.2021    UK  MWh  8176.10   \n",
       "12          TU   AS  2021   1.0  3.0       06.01.2021    UK  MWh  8176.10   \n",
       "13          PR   AO  2021   1.0  4.0       07.01.2021    UK  GBP    55.02   \n",
       "\n",
       "      Hour2  ...    Hour16    Hour17   Hour18    Hour19   Hour20    Hour21  \\\n",
       "4     56.97  ...     60.06     60.11    73.92    100.40    83.98     72.50   \n",
       "5   4991.80  ...   8447.60   9131.30  8881.80  10011.90  9534.80   8971.90   \n",
       "6   4991.80  ...   8447.60   9131.30  8881.80  10011.90  9534.80   8971.90   \n",
       "7     54.01  ...     57.92     57.44    77.72    103.75    88.00     74.00   \n",
       "8   5161.10  ...   9577.70  10923.90  9975.40  10570.90  9924.20   9696.60   \n",
       "9   5161.10  ...   9577.70  10923.90  9975.40  10570.90  9924.20   9696.60   \n",
       "10    46.41  ...     90.39     75.00   563.04   1000.04   383.28    156.74   \n",
       "11  7721.40  ...  10461.30  10035.80  9301.20   9543.30  9986.20  10607.00   \n",
       "12  7721.40  ...  10461.30  10035.80  9301.20   9543.30  9986.20  10607.00   \n",
       "13    52.90  ...     81.09     78.96   120.08    489.60   159.92     87.41   \n",
       "\n",
       "     Hour22   Hour23   Hour24  Avg/Total  \n",
       "4     60.03    57.06    54.72      60.70  \n",
       "5   7007.60  6356.60  6914.40  180879.20  \n",
       "6   7007.60  6356.60  6914.40  180879.20  \n",
       "7     57.00    53.99    48.95      60.88  \n",
       "8   8768.10  8180.70  8673.90  197089.50  \n",
       "9   8768.10  8180.70  8673.90  197089.50  \n",
       "10    80.30    55.06    51.06     145.08  \n",
       "11  9118.20  8470.50  8859.30  223287.10  \n",
       "12  9118.20  8470.50  8859.30  223287.10  \n",
       "13    67.95    57.18    52.01      91.80  \n",
       "\n",
       "[10 rows x 34 columns]"
      ]
     },
     "execution_count": 5,
     "metadata": {},
     "output_type": "execute_result"
    }
   ],
   "source": [
    "data.head(10)"
   ]
  },
  {
   "cell_type": "code",
   "execution_count": null,
   "metadata": {
    "hidden": true
   },
   "outputs": [],
   "source": [
    "price=data[data[\"Unit\"]==\"GBP\"]"
   ]
  },
  {
   "cell_type": "code",
   "execution_count": null,
   "metadata": {
    "hidden": true,
    "scrolled": true
   },
   "outputs": [],
   "source": [
    "price"
   ]
  },
  {
   "cell_type": "code",
   "execution_count": null,
   "metadata": {
    "hidden": true
   },
   "outputs": [],
   "source": [
    "price_melt=pd.melt(\n",
    "    price.drop([\"# Data type\",\"Code\",\"Avg/Total\",\"Hour3B\"],axis=1),\n",
    "    id_vars=[\"Year\",\"Week\",\"Day\",\"Date(dd.mm.yyyy)\",\"Alias\",\"Unit\"],\n",
    "    var_name=\"hours\",\n",
    "    value_name=\"price\"\n",
    "    \n",
    "\n",
    ")"
   ]
  },
  {
   "cell_type": "code",
   "execution_count": null,
   "metadata": {
    "hidden": true
   },
   "outputs": [],
   "source": [
    "price_melt.head(24)\n"
   ]
  },
  {
   "cell_type": "markdown",
   "metadata": {},
   "source": [
    "#### Extraction to Pandas DataFrame"
   ]
  },
  {
   "cell_type": "code",
   "execution_count": 3,
   "metadata": {},
   "outputs": [],
   "source": [
    "folders=os.listdir(\"./\")"
   ]
  },
  {
   "cell_type": "code",
   "execution_count": 4,
   "metadata": {
    "code_folding": [],
    "scrolled": true
   },
   "outputs": [
    {
     "name": "stdout",
     "output_type": "stream",
     "text": [
      "(1116, 31)\n",
      "(2260, 31)\n",
      "(3404, 31)\n",
      "(4548, 31)\n",
      "(6019, 33)\n",
      "(7556, 33)\n",
      "(9127, 33)\n",
      "(10999, 33)\n",
      "(12871, 33)\n",
      "(14743, 33)\n",
      "(16648, 33)\n"
     ]
    }
   ],
   "source": [
    "\n",
    "# Put all data into a single dataframe\n",
    "\n",
    "match_count=0\n",
    "full_df=pd.DataFrame()\n",
    "\n",
    "for folder in folders:\n",
    "    \n",
    "    if re.match('20*',folder):  \n",
    "        \n",
    "        folder_path=\"./\"+folder\n",
    "        \n",
    "        csvlist=os.listdir(folder_path)\n",
    "        \n",
    "        for file_count,file in enumerate(csvlist):\n",
    "            \n",
    "            # print(\"lookin at \", file)\n",
    "            file_path=folder_path+\"/\"+file\n",
    "            \n",
    "            temp_df=pd.read_csv(file_path,skiprows=4).drop([0,1,2,3]).reset_index()\n",
    "            \n",
    "            temp_df=temp_df.drop([\"# Data type\",\"Code\",\"Avg/Total\"],axis=1)\n",
    "            \n",
    "            if file_count==0:\n",
    "                temp_full_df=temp_df\n",
    "            else:\n",
    "                temp_full_df=temp_full_df.append(temp_df,ignore_index=True)\n",
    "                \n",
    "        if match_count==0:\n",
    "            full_df=temp_full_df\n",
    "            \n",
    "            match_count+=1\n",
    "            \n",
    "        else:\n",
    "            print(full_df.shape)\n",
    "            \n",
    "            full_df=full_df.append(temp_full_df,ignore_index=True)\n",
    "            \n"
   ]
  },
  {
   "cell_type": "code",
   "execution_count": 5,
   "metadata": {},
   "outputs": [],
   "source": [
    "full_df1=full_df.drop([\"index\"],axis=1).dropna(how=\"all\") # drop rows where all elements are nan"
   ]
  },
  {
   "cell_type": "code",
   "execution_count": 6,
   "metadata": {},
   "outputs": [],
   "source": [
    "# replace NaN values from Hour3 with values from Hour3A amd Hour3B\n",
    "full_df2=full_df1\n",
    "full_df2[\"Hour3\"]= full_df1[\"Hour3\"].fillna(value=full_df1[\"Hour3A\"])\n",
    "\n",
    "full_df2[\"Hour3\"]=full_df1[\"Hour3\"].fillna(value=full_df1[\"Hour3B\"])\n",
    "\n",
    "\n",
    "full_df2=full_df2.dropna(subset=[\"Hour3\"])"
   ]
  },
  {
   "cell_type": "code",
   "execution_count": 7,
   "metadata": {},
   "outputs": [
    {
     "data": {
      "text/plain": [
       "0"
      ]
     },
     "execution_count": 7,
     "metadata": {},
     "output_type": "execute_result"
    }
   ],
   "source": [
    "full_df2[\"Hour3\"].isna().sum() #now all the na rows should be gone"
   ]
  },
  {
   "cell_type": "code",
   "execution_count": 8,
   "metadata": {
    "scrolled": true
   },
   "outputs": [],
   "source": [
    "full_df3=full_df2.drop([\"Hour3A\",\"Hour3B\"],axis=1) # 3A and 3B no longer necessary since all moved to 3"
   ]
  },
  {
   "cell_type": "code",
   "execution_count": 9,
   "metadata": {},
   "outputs": [],
   "source": [
    "price=full_df3[full_df3[\"Unit\"]==\"GBP\"] # create a separate table for price"
   ]
  },
  {
   "cell_type": "code",
   "execution_count": 10,
   "metadata": {},
   "outputs": [],
   "source": [
    "# Melting the table- making it so that all hours are in rows instead of columns\n",
    "price_melt=pd.melt(\n",
    "    price.drop([\"Alias\",\"Unit\"],axis=1),\n",
    "    id_vars=[\"Year\",\"Week\",\"Day\",\"Date(dd.mm.yyyy)\"],\n",
    "    var_name=\"hours\",\n",
    "    value_name=\"price(GBP)\"\n",
    "    \n",
    "\n",
    ")"
   ]
  },
  {
   "cell_type": "code",
   "execution_count": 11,
   "metadata": {},
   "outputs": [],
   "source": [
    "price_final=price_melt.drop_duplicates(subset=[\"Year\",\"Week\",\"Day\",\"hours\"]).reset_index(drop=True) # Getting rid of duplicate data"
   ]
  },
  {
   "cell_type": "code",
   "execution_count": 12,
   "metadata": {},
   "outputs": [],
   "source": [
    "units=full_df3[full_df3[\"Unit\"]==\"MWh\"]"
   ]
  },
  {
   "cell_type": "code",
   "execution_count": 13,
   "metadata": {},
   "outputs": [],
   "source": [
    "units_melt=pd.melt(\n",
    "    units.drop([\"Alias\", \"Unit\"],axis=1),\n",
    "    id_vars=[\"Year\",\"Week\",\"Day\",\"Date(dd.mm.yyyy)\"],\n",
    "    var_name=\"hours\",\n",
    "    value_name=\"Units(MWh)\"\n",
    "    \n",
    "\n",
    ")"
   ]
  },
  {
   "cell_type": "code",
   "execution_count": 14,
   "metadata": {},
   "outputs": [],
   "source": [
    "units_final=units_melt.drop_duplicates(subset=[\"Year\",\"Week\",\"Day\",\"hours\"]).reset_index(drop=True)"
   ]
  },
  {
   "cell_type": "code",
   "execution_count": 15,
   "metadata": {},
   "outputs": [],
   "source": [
    "units_final[\"hours\"]= units_final.apply(lambda x: x[\"hours\"].strip(\"Hour\"),axis=1)\n",
    "\n",
    "units_final[\"hours\"]=units_final[\"hours\"].astype(int)"
   ]
  },
  {
   "cell_type": "code",
   "execution_count": 16,
   "metadata": {},
   "outputs": [],
   "source": [
    "units_final[\"Date(dd.mm.yyyy)\"]=pd.to_datetime(units_final[\"Date(dd.mm.yyyy)\"],dayfirst=True)\n",
    "price_final[\"Date(dd.mm.yyyy)\"]=pd.to_datetime(price_final[\"Date(dd.mm.yyyy)\"],dayfirst=True)\n",
    "\n"
   ]
  },
  {
   "cell_type": "code",
   "execution_count": 17,
   "metadata": {
    "scrolled": false
   },
   "outputs": [],
   "source": [
    "def doy(x):\n",
    "    x=pd.Period(x,freq=\"D\")\n",
    "    x=x.dayofyear\n",
    "    return x\n",
    "\n",
    "units_final[\"Date(dd.mm.yyyy)\"]=units_final[\"Date(dd.mm.yyyy)\"].map(doy)"
   ]
  },
  {
   "cell_type": "code",
   "execution_count": 18,
   "metadata": {
    "scrolled": false
   },
   "outputs": [
    {
     "data": {
      "text/html": [
       "<div>\n",
       "<style scoped>\n",
       "    .dataframe tbody tr th:only-of-type {\n",
       "        vertical-align: middle;\n",
       "    }\n",
       "\n",
       "    .dataframe tbody tr th {\n",
       "        vertical-align: top;\n",
       "    }\n",
       "\n",
       "    .dataframe thead th {\n",
       "        text-align: right;\n",
       "    }\n",
       "</style>\n",
       "<table border=\"1\" class=\"dataframe\">\n",
       "  <thead>\n",
       "    <tr style=\"text-align: right;\">\n",
       "      <th></th>\n",
       "      <th>Year</th>\n",
       "      <th>Week</th>\n",
       "      <th>Day</th>\n",
       "      <th>Date(dd.mm.yyyy)</th>\n",
       "      <th>hours</th>\n",
       "      <th>Units(MWh)</th>\n",
       "    </tr>\n",
       "  </thead>\n",
       "  <tbody>\n",
       "    <tr>\n",
       "      <th>0</th>\n",
       "      <td>2010</td>\n",
       "      <td>2.0</td>\n",
       "      <td>3.0</td>\n",
       "      <td>13</td>\n",
       "      <td>1</td>\n",
       "      <td>253.0</td>\n",
       "    </tr>\n",
       "    <tr>\n",
       "      <th>1</th>\n",
       "      <td>2010</td>\n",
       "      <td>2.0</td>\n",
       "      <td>4.0</td>\n",
       "      <td>14</td>\n",
       "      <td>1</td>\n",
       "      <td>253.0</td>\n",
       "    </tr>\n",
       "    <tr>\n",
       "      <th>2</th>\n",
       "      <td>2010</td>\n",
       "      <td>2.0</td>\n",
       "      <td>5.0</td>\n",
       "      <td>15</td>\n",
       "      <td>1</td>\n",
       "      <td>227.0</td>\n",
       "    </tr>\n",
       "    <tr>\n",
       "      <th>3</th>\n",
       "      <td>2010</td>\n",
       "      <td>2.0</td>\n",
       "      <td>6.0</td>\n",
       "      <td>16</td>\n",
       "      <td>1</td>\n",
       "      <td>146.0</td>\n",
       "    </tr>\n",
       "    <tr>\n",
       "      <th>4</th>\n",
       "      <td>2010</td>\n",
       "      <td>2.0</td>\n",
       "      <td>7.0</td>\n",
       "      <td>17</td>\n",
       "      <td>1</td>\n",
       "      <td>160.0</td>\n",
       "    </tr>\n",
       "    <tr>\n",
       "      <th>...</th>\n",
       "      <td>...</td>\n",
       "      <td>...</td>\n",
       "      <td>...</td>\n",
       "      <td>...</td>\n",
       "      <td>...</td>\n",
       "      <td>...</td>\n",
       "    </tr>\n",
       "    <tr>\n",
       "      <th>98491</th>\n",
       "      <td>2021</td>\n",
       "      <td>15.0</td>\n",
       "      <td>5.0</td>\n",
       "      <td>106</td>\n",
       "      <td>24</td>\n",
       "      <td>6540.2</td>\n",
       "    </tr>\n",
       "    <tr>\n",
       "      <th>98492</th>\n",
       "      <td>2021</td>\n",
       "      <td>15.0</td>\n",
       "      <td>6.0</td>\n",
       "      <td>107</td>\n",
       "      <td>24</td>\n",
       "      <td>6224.8</td>\n",
       "    </tr>\n",
       "    <tr>\n",
       "      <th>98493</th>\n",
       "      <td>2021</td>\n",
       "      <td>15.0</td>\n",
       "      <td>7.0</td>\n",
       "      <td>108</td>\n",
       "      <td>24</td>\n",
       "      <td>6697.0</td>\n",
       "    </tr>\n",
       "    <tr>\n",
       "      <th>98494</th>\n",
       "      <td>2021</td>\n",
       "      <td>16.0</td>\n",
       "      <td>1.0</td>\n",
       "      <td>109</td>\n",
       "      <td>24</td>\n",
       "      <td>5981.3</td>\n",
       "    </tr>\n",
       "    <tr>\n",
       "      <th>98495</th>\n",
       "      <td>2021</td>\n",
       "      <td>16.0</td>\n",
       "      <td>2.0</td>\n",
       "      <td>110</td>\n",
       "      <td>24</td>\n",
       "      <td>6730.8</td>\n",
       "    </tr>\n",
       "  </tbody>\n",
       "</table>\n",
       "<p>98496 rows × 6 columns</p>\n",
       "</div>"
      ],
      "text/plain": [
       "       Year  Week  Day  Date(dd.mm.yyyy)  hours  Units(MWh)\n",
       "0      2010   2.0  3.0                13      1       253.0\n",
       "1      2010   2.0  4.0                14      1       253.0\n",
       "2      2010   2.0  5.0                15      1       227.0\n",
       "3      2010   2.0  6.0                16      1       146.0\n",
       "4      2010   2.0  7.0                17      1       160.0\n",
       "...     ...   ...  ...               ...    ...         ...\n",
       "98491  2021  15.0  5.0               106     24      6540.2\n",
       "98492  2021  15.0  6.0               107     24      6224.8\n",
       "98493  2021  15.0  7.0               108     24      6697.0\n",
       "98494  2021  16.0  1.0               109     24      5981.3\n",
       "98495  2021  16.0  2.0               110     24      6730.8\n",
       "\n",
       "[98496 rows x 6 columns]"
      ]
     },
     "execution_count": 18,
     "metadata": {},
     "output_type": "execute_result"
    }
   ],
   "source": [
    "units_final"
   ]
  },
  {
   "cell_type": "code",
   "execution_count": 25,
   "metadata": {},
   "outputs": [
    {
     "name": "stdout",
     "output_type": "stream",
     "text": [
      "24586.0\n",
      "0.0\n",
      "10582.1585546622\n",
      "5326.604177900157\n"
     ]
    }
   ],
   "source": [
    "print((units_final[\"Units(MWh)\"]).max())\n",
    "print((units_final[\"Units(MWh)\"]).min())\n",
    "print(units_final[\"Units(MWh)\"].mean())\n",
    "print(units_final[\"Units(MWh)\"].std())"
   ]
  },
  {
   "cell_type": "markdown",
   "metadata": {},
   "source": [
    "### Model"
   ]
  },
  {
   "cell_type": "code",
   "execution_count": 27,
   "metadata": {},
   "outputs": [],
   "source": [
    "X=units_final"
   ]
  },
  {
   "cell_type": "code",
   "execution_count": 28,
   "metadata": {},
   "outputs": [],
   "source": [
    "X[\"Year\"]=X[\"Year\"].astype(int)\n",
    "\n",
    "X=X.rename(columns={\"Date(dd.mm.yyyy)\": \"Day of Year\"})\n",
    "X[\"Day of Year\"]=X[\"Day of Year\"].astype(int)"
   ]
  },
  {
   "cell_type": "code",
   "execution_count": 29,
   "metadata": {},
   "outputs": [],
   "source": [
    "y=price_final[\"price(GBP)\"]"
   ]
  },
  {
   "cell_type": "code",
   "execution_count": 53,
   "metadata": {},
   "outputs": [
    {
     "data": {
      "text/plain": [
       "Index(['Year', 'Week', 'Day', 'Day of Year', 'hours', 'Units(MWh)'], dtype='object')"
      ]
     },
     "execution_count": 53,
     "metadata": {},
     "output_type": "execute_result"
    }
   ],
   "source": [
    "X.columns"
   ]
  },
  {
   "cell_type": "code",
   "execution_count": 30,
   "metadata": {},
   "outputs": [],
   "source": [
    "scaler=StandardScaler()\n",
    "std_X=scaler.fit_transform(X)"
   ]
  },
  {
   "cell_type": "code",
   "execution_count": 31,
   "metadata": {},
   "outputs": [],
   "source": [
    "pickle_scaler=\"../../reporter/reporter_app/trading/model/pickle_scaler.pkl\"\n",
    "\n",
    "pickle.dump(scaler, open(pickle_scaler,'wb'))\n",
    "\n"
   ]
  },
  {
   "cell_type": "code",
   "execution_count": 55,
   "metadata": {
    "scrolled": true
   },
   "outputs": [
    {
     "data": {
      "text/plain": [
       "array([ 1.15093842e-14,  1.34395419e-16, -7.40982793e-17,  1.06838226e-16,\n",
       "        2.48159013e-17, -1.38435217e-16])"
      ]
     },
     "execution_count": 55,
     "metadata": {},
     "output_type": "execute_result"
    }
   ],
   "source": [
    "std_X.mean(axis=0)"
   ]
  },
  {
   "cell_type": "code",
   "execution_count": 56,
   "metadata": {},
   "outputs": [
    {
     "data": {
      "text/plain": [
       "array([False, False, False, ..., False, False, False])"
      ]
     },
     "execution_count": 56,
     "metadata": {},
     "output_type": "execute_result"
    }
   ],
   "source": [
    "np.isnan(std_X[:,5])"
   ]
  },
  {
   "cell_type": "code",
   "execution_count": 57,
   "metadata": {},
   "outputs": [
    {
     "name": "stdout",
     "output_type": "stream",
     "text": [
      "[<class 'numpy.int32'>, <class 'numpy.float64'>, <class 'numpy.float64'>, <class 'numpy.int32'>, <class 'numpy.int32'>, <class 'numpy.float64'>]\n"
     ]
    }
   ],
   "source": [
    "types=[type(X[i][10]) for i in X.columns]\n",
    "print(types)\n",
    "\n",
    "  \n"
   ]
  },
  {
   "cell_type": "code",
   "execution_count": 58,
   "metadata": {},
   "outputs": [],
   "source": [
    "x_train, x_test, y_train, y_test = train_test_split(std_X, y, test_size=0.2, random_state=40)"
   ]
  },
  {
   "cell_type": "code",
   "execution_count": 29,
   "metadata": {
    "scrolled": true
   },
   "outputs": [
    {
     "name": "stdout",
     "output_type": "stream",
     "text": [
      "(78796, 6) (19700, 6) (78796,) (19700,)\n"
     ]
    }
   ],
   "source": [
    "print(x_train.shape,x_test.shape, y_train.shape, y_test.shape)"
   ]
  },
  {
   "cell_type": "code",
   "execution_count": 60,
   "metadata": {},
   "outputs": [
    {
     "data": {
      "text/plain": [
       "MLPRegressor(hidden_layer_sizes=(365, 52, 100))"
      ]
     },
     "execution_count": 60,
     "metadata": {},
     "output_type": "execute_result"
    }
   ],
   "source": [
    "model=MLPRegressor((365,52,100))\n",
    "model.fit(x_train,y_train)"
   ]
  },
  {
   "cell_type": "code",
   "execution_count": 62,
   "metadata": {},
   "outputs": [],
   "source": [
    "# Save to file in the current working directory\n",
    "pkl_filename = \"../../reporter/reporter_app/trading/model/pickle_model.pkl\"\n",
    "with open(pkl_filename, 'wb') as file:\n",
    "    pickle.dump(model, file)\n"
   ]
  },
  {
   "cell_type": "code",
   "execution_count": 63,
   "metadata": {},
   "outputs": [],
   "source": [
    "\n",
    "# Load from file\n",
    "with open(pkl_filename, 'rb') as file:\n",
    "    pickle_model = pickle.load(file)\n",
    "    \n",
    "y_pred=pickle_model.predict(x_test)"
   ]
  },
  {
   "cell_type": "code",
   "execution_count": 67,
   "metadata": {},
   "outputs": [
    {
     "data": {
      "text/plain": [
       "55650    -5.088545\n",
       "34507     7.234717\n",
       "51334     5.433792\n",
       "41711    -5.166230\n",
       "93316   -14.840848\n",
       "           ...    \n",
       "4347     -0.323055\n",
       "4249      0.134937\n",
       "38226    -4.228292\n",
       "46556     2.844977\n",
       "48231     4.695026\n",
       "Name: price(GBP), Length: 19700, dtype: float64"
      ]
     },
     "execution_count": 67,
     "metadata": {},
     "output_type": "execute_result"
    }
   ],
   "source": [
    "y_pred -y_test"
   ]
  },
  {
   "cell_type": "code",
   "execution_count": 30,
   "metadata": {},
   "outputs": [],
   "source": [
    "model = keras.Sequential(\n",
    "    [\n",
    "        layers.Dense(3650,activation=\"relu\",name=\"Rodney\",input_shape=(6,)),\n",
    "        layers.Dense(365,activation=\"sigmoid\",name=\"Rooney\"),\n",
    "        layers.Dense(1,name=\"layra\")\n",
    "    ]\n",
    ")\n",
    "\n",
    "model.compile(optimizer=\"adam\", loss=\"mean_squared_error\",metrics=[\"mean_squared_error\"])"
   ]
  },
  {
   "cell_type": "code",
   "execution_count": 31,
   "metadata": {
    "scrolled": true
   },
   "outputs": [
    {
     "name": "stdout",
     "output_type": "stream",
     "text": [
      "Epoch 1/3\n"
     ]
    },
    {
     "ename": "InternalError",
     "evalue": " Blas GEMM launch failed : a.shape=(2000, 6), b.shape=(6, 3650), m=2000, n=3650, k=6\n\t [[node sequential/Rodney/MatMul (defined at <ipython-input-31-6b9fc7b9597d>:1) ]] [Op:__inference_train_function_639]\n\nFunction call stack:\ntrain_function\n",
     "output_type": "error",
     "traceback": [
      "\u001b[1;31m---------------------------------------------------------------------------\u001b[0m",
      "\u001b[1;31mInternalError\u001b[0m                             Traceback (most recent call last)",
      "\u001b[1;32m<ipython-input-31-6b9fc7b9597d>\u001b[0m in \u001b[0;36m<module>\u001b[1;34m\u001b[0m\n\u001b[1;32m----> 1\u001b[1;33m \u001b[0mmodel\u001b[0m\u001b[1;33m.\u001b[0m\u001b[0mfit\u001b[0m\u001b[1;33m(\u001b[0m\u001b[0mx_train\u001b[0m\u001b[1;33m,\u001b[0m\u001b[0my_train\u001b[0m\u001b[1;33m,\u001b[0m\u001b[0mepochs\u001b[0m\u001b[1;33m=\u001b[0m\u001b[1;36m3\u001b[0m\u001b[1;33m,\u001b[0m\u001b[0mvalidation_data\u001b[0m\u001b[1;33m=\u001b[0m\u001b[1;33m(\u001b[0m\u001b[0mx_test\u001b[0m\u001b[1;33m,\u001b[0m\u001b[0my_test\u001b[0m\u001b[1;33m)\u001b[0m\u001b[1;33m,\u001b[0m\u001b[0mbatch_size\u001b[0m\u001b[1;33m=\u001b[0m\u001b[1;36m2000\u001b[0m\u001b[1;33m,\u001b[0m\u001b[0mshuffle\u001b[0m\u001b[1;33m=\u001b[0m\u001b[1;32mFalse\u001b[0m\u001b[1;33m)\u001b[0m\u001b[1;33m\u001b[0m\u001b[1;33m\u001b[0m\u001b[0m\n\u001b[0m\u001b[0;32m      2\u001b[0m \u001b[0mmodel\u001b[0m\u001b[1;33m.\u001b[0m\u001b[0msave_weights\u001b[0m\u001b[1;33m(\u001b[0m\u001b[1;34m\"../../reporter/reporter_app/trading/saved_model.h5\"\u001b[0m\u001b[1;33m)\u001b[0m\u001b[1;33m\u001b[0m\u001b[1;33m\u001b[0m\u001b[0m\n",
      "\u001b[1;32m~\\AppData\\Roaming\\Python\\Python38\\site-packages\\tensorflow\\python\\keras\\engine\\training.py\u001b[0m in \u001b[0;36mfit\u001b[1;34m(self, x, y, batch_size, epochs, verbose, callbacks, validation_split, validation_data, shuffle, class_weight, sample_weight, initial_epoch, steps_per_epoch, validation_steps, validation_batch_size, validation_freq, max_queue_size, workers, use_multiprocessing)\u001b[0m\n\u001b[0;32m   1098\u001b[0m                 _r=1):\n\u001b[0;32m   1099\u001b[0m               \u001b[0mcallbacks\u001b[0m\u001b[1;33m.\u001b[0m\u001b[0mon_train_batch_begin\u001b[0m\u001b[1;33m(\u001b[0m\u001b[0mstep\u001b[0m\u001b[1;33m)\u001b[0m\u001b[1;33m\u001b[0m\u001b[1;33m\u001b[0m\u001b[0m\n\u001b[1;32m-> 1100\u001b[1;33m               \u001b[0mtmp_logs\u001b[0m \u001b[1;33m=\u001b[0m \u001b[0mself\u001b[0m\u001b[1;33m.\u001b[0m\u001b[0mtrain_function\u001b[0m\u001b[1;33m(\u001b[0m\u001b[0miterator\u001b[0m\u001b[1;33m)\u001b[0m\u001b[1;33m\u001b[0m\u001b[1;33m\u001b[0m\u001b[0m\n\u001b[0m\u001b[0;32m   1101\u001b[0m               \u001b[1;32mif\u001b[0m \u001b[0mdata_handler\u001b[0m\u001b[1;33m.\u001b[0m\u001b[0mshould_sync\u001b[0m\u001b[1;33m:\u001b[0m\u001b[1;33m\u001b[0m\u001b[1;33m\u001b[0m\u001b[0m\n\u001b[0;32m   1102\u001b[0m                 \u001b[0mcontext\u001b[0m\u001b[1;33m.\u001b[0m\u001b[0masync_wait\u001b[0m\u001b[1;33m(\u001b[0m\u001b[1;33m)\u001b[0m\u001b[1;33m\u001b[0m\u001b[1;33m\u001b[0m\u001b[0m\n",
      "\u001b[1;32m~\\AppData\\Roaming\\Python\\Python38\\site-packages\\tensorflow\\python\\eager\\def_function.py\u001b[0m in \u001b[0;36m__call__\u001b[1;34m(self, *args, **kwds)\u001b[0m\n\u001b[0;32m    826\u001b[0m     \u001b[0mtracing_count\u001b[0m \u001b[1;33m=\u001b[0m \u001b[0mself\u001b[0m\u001b[1;33m.\u001b[0m\u001b[0mexperimental_get_tracing_count\u001b[0m\u001b[1;33m(\u001b[0m\u001b[1;33m)\u001b[0m\u001b[1;33m\u001b[0m\u001b[1;33m\u001b[0m\u001b[0m\n\u001b[0;32m    827\u001b[0m     \u001b[1;32mwith\u001b[0m \u001b[0mtrace\u001b[0m\u001b[1;33m.\u001b[0m\u001b[0mTrace\u001b[0m\u001b[1;33m(\u001b[0m\u001b[0mself\u001b[0m\u001b[1;33m.\u001b[0m\u001b[0m_name\u001b[0m\u001b[1;33m)\u001b[0m \u001b[1;32mas\u001b[0m \u001b[0mtm\u001b[0m\u001b[1;33m:\u001b[0m\u001b[1;33m\u001b[0m\u001b[1;33m\u001b[0m\u001b[0m\n\u001b[1;32m--> 828\u001b[1;33m       \u001b[0mresult\u001b[0m \u001b[1;33m=\u001b[0m \u001b[0mself\u001b[0m\u001b[1;33m.\u001b[0m\u001b[0m_call\u001b[0m\u001b[1;33m(\u001b[0m\u001b[1;33m*\u001b[0m\u001b[0margs\u001b[0m\u001b[1;33m,\u001b[0m \u001b[1;33m**\u001b[0m\u001b[0mkwds\u001b[0m\u001b[1;33m)\u001b[0m\u001b[1;33m\u001b[0m\u001b[1;33m\u001b[0m\u001b[0m\n\u001b[0m\u001b[0;32m    829\u001b[0m       \u001b[0mcompiler\u001b[0m \u001b[1;33m=\u001b[0m \u001b[1;34m\"xla\"\u001b[0m \u001b[1;32mif\u001b[0m \u001b[0mself\u001b[0m\u001b[1;33m.\u001b[0m\u001b[0m_experimental_compile\u001b[0m \u001b[1;32melse\u001b[0m \u001b[1;34m\"nonXla\"\u001b[0m\u001b[1;33m\u001b[0m\u001b[1;33m\u001b[0m\u001b[0m\n\u001b[0;32m    830\u001b[0m       \u001b[0mnew_tracing_count\u001b[0m \u001b[1;33m=\u001b[0m \u001b[0mself\u001b[0m\u001b[1;33m.\u001b[0m\u001b[0mexperimental_get_tracing_count\u001b[0m\u001b[1;33m(\u001b[0m\u001b[1;33m)\u001b[0m\u001b[1;33m\u001b[0m\u001b[1;33m\u001b[0m\u001b[0m\n",
      "\u001b[1;32m~\\AppData\\Roaming\\Python\\Python38\\site-packages\\tensorflow\\python\\eager\\def_function.py\u001b[0m in \u001b[0;36m_call\u001b[1;34m(self, *args, **kwds)\u001b[0m\n\u001b[0;32m    886\u001b[0m         \u001b[1;31m# Lifting succeeded, so variables are initialized and we can run the\u001b[0m\u001b[1;33m\u001b[0m\u001b[1;33m\u001b[0m\u001b[1;33m\u001b[0m\u001b[0m\n\u001b[0;32m    887\u001b[0m         \u001b[1;31m# stateless function.\u001b[0m\u001b[1;33m\u001b[0m\u001b[1;33m\u001b[0m\u001b[1;33m\u001b[0m\u001b[0m\n\u001b[1;32m--> 888\u001b[1;33m         \u001b[1;32mreturn\u001b[0m \u001b[0mself\u001b[0m\u001b[1;33m.\u001b[0m\u001b[0m_stateless_fn\u001b[0m\u001b[1;33m(\u001b[0m\u001b[1;33m*\u001b[0m\u001b[0margs\u001b[0m\u001b[1;33m,\u001b[0m \u001b[1;33m**\u001b[0m\u001b[0mkwds\u001b[0m\u001b[1;33m)\u001b[0m\u001b[1;33m\u001b[0m\u001b[1;33m\u001b[0m\u001b[0m\n\u001b[0m\u001b[0;32m    889\u001b[0m     \u001b[1;32melse\u001b[0m\u001b[1;33m:\u001b[0m\u001b[1;33m\u001b[0m\u001b[1;33m\u001b[0m\u001b[0m\n\u001b[0;32m    890\u001b[0m       \u001b[0m_\u001b[0m\u001b[1;33m,\u001b[0m \u001b[0m_\u001b[0m\u001b[1;33m,\u001b[0m \u001b[0m_\u001b[0m\u001b[1;33m,\u001b[0m \u001b[0mfiltered_flat_args\u001b[0m \u001b[1;33m=\u001b[0m\u001b[0;31m \u001b[0m\u001b[0;31m\\\u001b[0m\u001b[1;33m\u001b[0m\u001b[1;33m\u001b[0m\u001b[0m\n",
      "\u001b[1;32m~\\AppData\\Roaming\\Python\\Python38\\site-packages\\tensorflow\\python\\eager\\function.py\u001b[0m in \u001b[0;36m__call__\u001b[1;34m(self, *args, **kwargs)\u001b[0m\n\u001b[0;32m   2940\u001b[0m       (graph_function,\n\u001b[0;32m   2941\u001b[0m        filtered_flat_args) = self._maybe_define_function(args, kwargs)\n\u001b[1;32m-> 2942\u001b[1;33m     return graph_function._call_flat(\n\u001b[0m\u001b[0;32m   2943\u001b[0m         filtered_flat_args, captured_inputs=graph_function.captured_inputs)  # pylint: disable=protected-access\n\u001b[0;32m   2944\u001b[0m \u001b[1;33m\u001b[0m\u001b[0m\n",
      "\u001b[1;32m~\\AppData\\Roaming\\Python\\Python38\\site-packages\\tensorflow\\python\\eager\\function.py\u001b[0m in \u001b[0;36m_call_flat\u001b[1;34m(self, args, captured_inputs, cancellation_manager)\u001b[0m\n\u001b[0;32m   1916\u001b[0m         and executing_eagerly):\n\u001b[0;32m   1917\u001b[0m       \u001b[1;31m# No tape is watching; skip to running the function.\u001b[0m\u001b[1;33m\u001b[0m\u001b[1;33m\u001b[0m\u001b[1;33m\u001b[0m\u001b[0m\n\u001b[1;32m-> 1918\u001b[1;33m       return self._build_call_outputs(self._inference_function.call(\n\u001b[0m\u001b[0;32m   1919\u001b[0m           ctx, args, cancellation_manager=cancellation_manager))\n\u001b[0;32m   1920\u001b[0m     forward_backward = self._select_forward_and_backward_functions(\n",
      "\u001b[1;32m~\\AppData\\Roaming\\Python\\Python38\\site-packages\\tensorflow\\python\\eager\\function.py\u001b[0m in \u001b[0;36mcall\u001b[1;34m(self, ctx, args, cancellation_manager)\u001b[0m\n\u001b[0;32m    553\u001b[0m       \u001b[1;32mwith\u001b[0m \u001b[0m_InterpolateFunctionError\u001b[0m\u001b[1;33m(\u001b[0m\u001b[0mself\u001b[0m\u001b[1;33m)\u001b[0m\u001b[1;33m:\u001b[0m\u001b[1;33m\u001b[0m\u001b[1;33m\u001b[0m\u001b[0m\n\u001b[0;32m    554\u001b[0m         \u001b[1;32mif\u001b[0m \u001b[0mcancellation_manager\u001b[0m \u001b[1;32mis\u001b[0m \u001b[1;32mNone\u001b[0m\u001b[1;33m:\u001b[0m\u001b[1;33m\u001b[0m\u001b[1;33m\u001b[0m\u001b[0m\n\u001b[1;32m--> 555\u001b[1;33m           outputs = execute.execute(\n\u001b[0m\u001b[0;32m    556\u001b[0m               \u001b[0mstr\u001b[0m\u001b[1;33m(\u001b[0m\u001b[0mself\u001b[0m\u001b[1;33m.\u001b[0m\u001b[0msignature\u001b[0m\u001b[1;33m.\u001b[0m\u001b[0mname\u001b[0m\u001b[1;33m)\u001b[0m\u001b[1;33m,\u001b[0m\u001b[1;33m\u001b[0m\u001b[1;33m\u001b[0m\u001b[0m\n\u001b[0;32m    557\u001b[0m               \u001b[0mnum_outputs\u001b[0m\u001b[1;33m=\u001b[0m\u001b[0mself\u001b[0m\u001b[1;33m.\u001b[0m\u001b[0m_num_outputs\u001b[0m\u001b[1;33m,\u001b[0m\u001b[1;33m\u001b[0m\u001b[1;33m\u001b[0m\u001b[0m\n",
      "\u001b[1;32m~\\AppData\\Roaming\\Python\\Python38\\site-packages\\tensorflow\\python\\eager\\execute.py\u001b[0m in \u001b[0;36mquick_execute\u001b[1;34m(op_name, num_outputs, inputs, attrs, ctx, name)\u001b[0m\n\u001b[0;32m     57\u001b[0m   \u001b[1;32mtry\u001b[0m\u001b[1;33m:\u001b[0m\u001b[1;33m\u001b[0m\u001b[1;33m\u001b[0m\u001b[0m\n\u001b[0;32m     58\u001b[0m     \u001b[0mctx\u001b[0m\u001b[1;33m.\u001b[0m\u001b[0mensure_initialized\u001b[0m\u001b[1;33m(\u001b[0m\u001b[1;33m)\u001b[0m\u001b[1;33m\u001b[0m\u001b[1;33m\u001b[0m\u001b[0m\n\u001b[1;32m---> 59\u001b[1;33m     tensors = pywrap_tfe.TFE_Py_Execute(ctx._handle, device_name, op_name,\n\u001b[0m\u001b[0;32m     60\u001b[0m                                         inputs, attrs, num_outputs)\n\u001b[0;32m     61\u001b[0m   \u001b[1;32mexcept\u001b[0m \u001b[0mcore\u001b[0m\u001b[1;33m.\u001b[0m\u001b[0m_NotOkStatusException\u001b[0m \u001b[1;32mas\u001b[0m \u001b[0me\u001b[0m\u001b[1;33m:\u001b[0m\u001b[1;33m\u001b[0m\u001b[1;33m\u001b[0m\u001b[0m\n",
      "\u001b[1;31mInternalError\u001b[0m:  Blas GEMM launch failed : a.shape=(2000, 6), b.shape=(6, 3650), m=2000, n=3650, k=6\n\t [[node sequential/Rodney/MatMul (defined at <ipython-input-31-6b9fc7b9597d>:1) ]] [Op:__inference_train_function_639]\n\nFunction call stack:\ntrain_function\n"
     ]
    }
   ],
   "source": [
    "\n",
    "model.fit(x_train,y_train,epochs=3,validation_data=(x_test,y_test),batch_size=2000,shuffle=False)\n",
    "model.save_weights(\"../../reporter/reporter_app/trading/saved_model.h5\")"
   ]
  },
  {
   "cell_type": "code",
   "execution_count": 1,
   "metadata": {},
   "outputs": [
    {
     "ename": "NameError",
     "evalue": "name 'model' is not defined",
     "output_type": "error",
     "traceback": [
      "\u001b[1;31m---------------------------------------------------------------------------\u001b[0m",
      "\u001b[1;31mNameError\u001b[0m                                 Traceback (most recent call last)",
      "\u001b[1;32m<ipython-input-1-9b359e248f32>\u001b[0m in \u001b[0;36m<module>\u001b[1;34m\u001b[0m\n\u001b[1;32m----> 1\u001b[1;33m \u001b[0mmodel\u001b[0m\u001b[1;33m.\u001b[0m\u001b[0mload_weights\u001b[0m\u001b[1;33m(\u001b[0m\u001b[1;34m\"../../reporter/reporter_app/trading/saved_model.h5\"\u001b[0m\u001b[1;33m)\u001b[0m\u001b[1;33m\u001b[0m\u001b[1;33m\u001b[0m\u001b[0m\n\u001b[0m",
      "\u001b[1;31mNameError\u001b[0m: name 'model' is not defined"
     ]
    }
   ],
   "source": [
    "model.load_weights(\"../../reporter/reporter_app/trading/saved_model.h5\")"
   ]
  },
  {
   "cell_type": "code",
   "execution_count": 6,
   "metadata": {},
   "outputs": [],
   "source": [
    "processed_tab=pd.DataFrame({\"Year\":[2021,2021], \"Week\":[1,36],\"Day\":[5,7],\"Day of Year\":[4,255],\"hours\":[2,18],\"Units(MWh)\":[23345,34456]})"
   ]
  },
  {
   "cell_type": "code",
   "execution_count": 31,
   "metadata": {},
   "outputs": [
    {
     "ename": "InternalError",
     "evalue": " Blas GEMM launch failed : a.shape=(32, 6), b.shape=(6, 3650), m=32, n=3650, k=6\n\t [[node sequential/Rodney/MatMul (defined at <ipython-input-31-77e3652b0a4e>:1) ]] [Op:__inference_predict_function_181]\n\nFunction call stack:\npredict_function\n",
     "output_type": "error",
     "traceback": [
      "\u001b[1;31m---------------------------------------------------------------------------\u001b[0m",
      "\u001b[1;31mInternalError\u001b[0m                             Traceback (most recent call last)",
      "\u001b[1;32m<ipython-input-31-77e3652b0a4e>\u001b[0m in \u001b[0;36m<module>\u001b[1;34m\u001b[0m\n\u001b[1;32m----> 1\u001b[1;33m \u001b[0my_pred\u001b[0m\u001b[1;33m=\u001b[0m\u001b[0mmodel\u001b[0m\u001b[1;33m.\u001b[0m\u001b[0mpredict\u001b[0m\u001b[1;33m(\u001b[0m\u001b[0mx_test\u001b[0m\u001b[1;33m)\u001b[0m\u001b[1;33m\u001b[0m\u001b[1;33m\u001b[0m\u001b[0m\n\u001b[0m",
      "\u001b[1;32m~\\AppData\\Roaming\\Python\\Python38\\site-packages\\tensorflow\\python\\keras\\engine\\training.py\u001b[0m in \u001b[0;36mpredict\u001b[1;34m(self, x, batch_size, verbose, steps, callbacks, max_queue_size, workers, use_multiprocessing)\u001b[0m\n\u001b[0;32m   1627\u001b[0m           \u001b[1;32mfor\u001b[0m \u001b[0mstep\u001b[0m \u001b[1;32min\u001b[0m \u001b[0mdata_handler\u001b[0m\u001b[1;33m.\u001b[0m\u001b[0msteps\u001b[0m\u001b[1;33m(\u001b[0m\u001b[1;33m)\u001b[0m\u001b[1;33m:\u001b[0m\u001b[1;33m\u001b[0m\u001b[1;33m\u001b[0m\u001b[0m\n\u001b[0;32m   1628\u001b[0m             \u001b[0mcallbacks\u001b[0m\u001b[1;33m.\u001b[0m\u001b[0mon_predict_batch_begin\u001b[0m\u001b[1;33m(\u001b[0m\u001b[0mstep\u001b[0m\u001b[1;33m)\u001b[0m\u001b[1;33m\u001b[0m\u001b[1;33m\u001b[0m\u001b[0m\n\u001b[1;32m-> 1629\u001b[1;33m             \u001b[0mtmp_batch_outputs\u001b[0m \u001b[1;33m=\u001b[0m \u001b[0mself\u001b[0m\u001b[1;33m.\u001b[0m\u001b[0mpredict_function\u001b[0m\u001b[1;33m(\u001b[0m\u001b[0miterator\u001b[0m\u001b[1;33m)\u001b[0m\u001b[1;33m\u001b[0m\u001b[1;33m\u001b[0m\u001b[0m\n\u001b[0m\u001b[0;32m   1630\u001b[0m             \u001b[1;32mif\u001b[0m \u001b[0mdata_handler\u001b[0m\u001b[1;33m.\u001b[0m\u001b[0mshould_sync\u001b[0m\u001b[1;33m:\u001b[0m\u001b[1;33m\u001b[0m\u001b[1;33m\u001b[0m\u001b[0m\n\u001b[0;32m   1631\u001b[0m               \u001b[0mcontext\u001b[0m\u001b[1;33m.\u001b[0m\u001b[0masync_wait\u001b[0m\u001b[1;33m(\u001b[0m\u001b[1;33m)\u001b[0m\u001b[1;33m\u001b[0m\u001b[1;33m\u001b[0m\u001b[0m\n",
      "\u001b[1;32m~\\AppData\\Roaming\\Python\\Python38\\site-packages\\tensorflow\\python\\eager\\def_function.py\u001b[0m in \u001b[0;36m__call__\u001b[1;34m(self, *args, **kwds)\u001b[0m\n\u001b[0;32m    826\u001b[0m     \u001b[0mtracing_count\u001b[0m \u001b[1;33m=\u001b[0m \u001b[0mself\u001b[0m\u001b[1;33m.\u001b[0m\u001b[0mexperimental_get_tracing_count\u001b[0m\u001b[1;33m(\u001b[0m\u001b[1;33m)\u001b[0m\u001b[1;33m\u001b[0m\u001b[1;33m\u001b[0m\u001b[0m\n\u001b[0;32m    827\u001b[0m     \u001b[1;32mwith\u001b[0m \u001b[0mtrace\u001b[0m\u001b[1;33m.\u001b[0m\u001b[0mTrace\u001b[0m\u001b[1;33m(\u001b[0m\u001b[0mself\u001b[0m\u001b[1;33m.\u001b[0m\u001b[0m_name\u001b[0m\u001b[1;33m)\u001b[0m \u001b[1;32mas\u001b[0m \u001b[0mtm\u001b[0m\u001b[1;33m:\u001b[0m\u001b[1;33m\u001b[0m\u001b[1;33m\u001b[0m\u001b[0m\n\u001b[1;32m--> 828\u001b[1;33m       \u001b[0mresult\u001b[0m \u001b[1;33m=\u001b[0m \u001b[0mself\u001b[0m\u001b[1;33m.\u001b[0m\u001b[0m_call\u001b[0m\u001b[1;33m(\u001b[0m\u001b[1;33m*\u001b[0m\u001b[0margs\u001b[0m\u001b[1;33m,\u001b[0m \u001b[1;33m**\u001b[0m\u001b[0mkwds\u001b[0m\u001b[1;33m)\u001b[0m\u001b[1;33m\u001b[0m\u001b[1;33m\u001b[0m\u001b[0m\n\u001b[0m\u001b[0;32m    829\u001b[0m       \u001b[0mcompiler\u001b[0m \u001b[1;33m=\u001b[0m \u001b[1;34m\"xla\"\u001b[0m \u001b[1;32mif\u001b[0m \u001b[0mself\u001b[0m\u001b[1;33m.\u001b[0m\u001b[0m_experimental_compile\u001b[0m \u001b[1;32melse\u001b[0m \u001b[1;34m\"nonXla\"\u001b[0m\u001b[1;33m\u001b[0m\u001b[1;33m\u001b[0m\u001b[0m\n\u001b[0;32m    830\u001b[0m       \u001b[0mnew_tracing_count\u001b[0m \u001b[1;33m=\u001b[0m \u001b[0mself\u001b[0m\u001b[1;33m.\u001b[0m\u001b[0mexperimental_get_tracing_count\u001b[0m\u001b[1;33m(\u001b[0m\u001b[1;33m)\u001b[0m\u001b[1;33m\u001b[0m\u001b[1;33m\u001b[0m\u001b[0m\n",
      "\u001b[1;32m~\\AppData\\Roaming\\Python\\Python38\\site-packages\\tensorflow\\python\\eager\\def_function.py\u001b[0m in \u001b[0;36m_call\u001b[1;34m(self, *args, **kwds)\u001b[0m\n\u001b[0;32m    892\u001b[0m               *args, **kwds)\n\u001b[0;32m    893\u001b[0m       \u001b[1;31m# If we did not create any variables the trace we have is good enough.\u001b[0m\u001b[1;33m\u001b[0m\u001b[1;33m\u001b[0m\u001b[1;33m\u001b[0m\u001b[0m\n\u001b[1;32m--> 894\u001b[1;33m       return self._concrete_stateful_fn._call_flat(\n\u001b[0m\u001b[0;32m    895\u001b[0m           filtered_flat_args, self._concrete_stateful_fn.captured_inputs)  # pylint: disable=protected-access\n\u001b[0;32m    896\u001b[0m \u001b[1;33m\u001b[0m\u001b[0m\n",
      "\u001b[1;32m~\\AppData\\Roaming\\Python\\Python38\\site-packages\\tensorflow\\python\\eager\\function.py\u001b[0m in \u001b[0;36m_call_flat\u001b[1;34m(self, args, captured_inputs, cancellation_manager)\u001b[0m\n\u001b[0;32m   1916\u001b[0m         and executing_eagerly):\n\u001b[0;32m   1917\u001b[0m       \u001b[1;31m# No tape is watching; skip to running the function.\u001b[0m\u001b[1;33m\u001b[0m\u001b[1;33m\u001b[0m\u001b[1;33m\u001b[0m\u001b[0m\n\u001b[1;32m-> 1918\u001b[1;33m       return self._build_call_outputs(self._inference_function.call(\n\u001b[0m\u001b[0;32m   1919\u001b[0m           ctx, args, cancellation_manager=cancellation_manager))\n\u001b[0;32m   1920\u001b[0m     forward_backward = self._select_forward_and_backward_functions(\n",
      "\u001b[1;32m~\\AppData\\Roaming\\Python\\Python38\\site-packages\\tensorflow\\python\\eager\\function.py\u001b[0m in \u001b[0;36mcall\u001b[1;34m(self, ctx, args, cancellation_manager)\u001b[0m\n\u001b[0;32m    553\u001b[0m       \u001b[1;32mwith\u001b[0m \u001b[0m_InterpolateFunctionError\u001b[0m\u001b[1;33m(\u001b[0m\u001b[0mself\u001b[0m\u001b[1;33m)\u001b[0m\u001b[1;33m:\u001b[0m\u001b[1;33m\u001b[0m\u001b[1;33m\u001b[0m\u001b[0m\n\u001b[0;32m    554\u001b[0m         \u001b[1;32mif\u001b[0m \u001b[0mcancellation_manager\u001b[0m \u001b[1;32mis\u001b[0m \u001b[1;32mNone\u001b[0m\u001b[1;33m:\u001b[0m\u001b[1;33m\u001b[0m\u001b[1;33m\u001b[0m\u001b[0m\n\u001b[1;32m--> 555\u001b[1;33m           outputs = execute.execute(\n\u001b[0m\u001b[0;32m    556\u001b[0m               \u001b[0mstr\u001b[0m\u001b[1;33m(\u001b[0m\u001b[0mself\u001b[0m\u001b[1;33m.\u001b[0m\u001b[0msignature\u001b[0m\u001b[1;33m.\u001b[0m\u001b[0mname\u001b[0m\u001b[1;33m)\u001b[0m\u001b[1;33m,\u001b[0m\u001b[1;33m\u001b[0m\u001b[1;33m\u001b[0m\u001b[0m\n\u001b[0;32m    557\u001b[0m               \u001b[0mnum_outputs\u001b[0m\u001b[1;33m=\u001b[0m\u001b[0mself\u001b[0m\u001b[1;33m.\u001b[0m\u001b[0m_num_outputs\u001b[0m\u001b[1;33m,\u001b[0m\u001b[1;33m\u001b[0m\u001b[1;33m\u001b[0m\u001b[0m\n",
      "\u001b[1;32m~\\AppData\\Roaming\\Python\\Python38\\site-packages\\tensorflow\\python\\eager\\execute.py\u001b[0m in \u001b[0;36mquick_execute\u001b[1;34m(op_name, num_outputs, inputs, attrs, ctx, name)\u001b[0m\n\u001b[0;32m     57\u001b[0m   \u001b[1;32mtry\u001b[0m\u001b[1;33m:\u001b[0m\u001b[1;33m\u001b[0m\u001b[1;33m\u001b[0m\u001b[0m\n\u001b[0;32m     58\u001b[0m     \u001b[0mctx\u001b[0m\u001b[1;33m.\u001b[0m\u001b[0mensure_initialized\u001b[0m\u001b[1;33m(\u001b[0m\u001b[1;33m)\u001b[0m\u001b[1;33m\u001b[0m\u001b[1;33m\u001b[0m\u001b[0m\n\u001b[1;32m---> 59\u001b[1;33m     tensors = pywrap_tfe.TFE_Py_Execute(ctx._handle, device_name, op_name,\n\u001b[0m\u001b[0;32m     60\u001b[0m                                         inputs, attrs, num_outputs)\n\u001b[0;32m     61\u001b[0m   \u001b[1;32mexcept\u001b[0m \u001b[0mcore\u001b[0m\u001b[1;33m.\u001b[0m\u001b[0m_NotOkStatusException\u001b[0m \u001b[1;32mas\u001b[0m \u001b[0me\u001b[0m\u001b[1;33m:\u001b[0m\u001b[1;33m\u001b[0m\u001b[1;33m\u001b[0m\u001b[0m\n",
      "\u001b[1;31mInternalError\u001b[0m:  Blas GEMM launch failed : a.shape=(32, 6), b.shape=(6, 3650), m=32, n=3650, k=6\n\t [[node sequential/Rodney/MatMul (defined at <ipython-input-31-77e3652b0a4e>:1) ]] [Op:__inference_predict_function_181]\n\nFunction call stack:\npredict_function\n"
     ]
    }
   ],
   "source": [
    "y_pred=model.predict(x_test)"
   ]
  },
  {
   "cell_type": "code",
   "execution_count": null,
   "metadata": {},
   "outputs": [],
   "source": []
  },
  {
   "cell_type": "code",
   "execution_count": null,
   "metadata": {},
   "outputs": [],
   "source": [
    "y_pred.shape"
   ]
  },
  {
   "cell_type": "code",
   "execution_count": null,
   "metadata": {},
   "outputs": [],
   "source": [
    "pred=np.array(y_pred)"
   ]
  },
  {
   "cell_type": "code",
   "execution_count": null,
   "metadata": {},
   "outputs": [],
   "source": [
    "pred.shape"
   ]
  },
  {
   "cell_type": "code",
   "execution_count": null,
   "metadata": {
    "scrolled": true
   },
   "outputs": [],
   "source": [
    "test=np.array(y_test)\n",
    "test=test[:,np.newaxis]"
   ]
  },
  {
   "cell_type": "code",
   "execution_count": null,
   "metadata": {},
   "outputs": [],
   "source": [
    "test.shape"
   ]
  },
  {
   "cell_type": "code",
   "execution_count": null,
   "metadata": {},
   "outputs": [],
   "source": [
    "test.shape==(19700,1)"
   ]
  },
  {
   "cell_type": "code",
   "execution_count": null,
   "metadata": {},
   "outputs": [],
   "source": [
    "print(type(y_pred),type(test))"
   ]
  },
  {
   "cell_type": "code",
   "execution_count": null,
   "metadata": {},
   "outputs": [],
   "source": [
    "difference=y_pred-test"
   ]
  },
  {
   "cell_type": "code",
   "execution_count": null,
   "metadata": {},
   "outputs": [],
   "source": [
    "difference.shape\n"
   ]
  },
  {
   "cell_type": "code",
   "execution_count": null,
   "metadata": {},
   "outputs": [],
   "source": [
    "plt.plot(difference)"
   ]
  },
  {
   "cell_type": "code",
   "execution_count": null,
   "metadata": {},
   "outputs": [],
   "source": [
    "def call_model(L1=64,L2=8,L3=4,L4=2, batch=400 , epoch=200):\n",
    "    # Define Sequential model with 4 hidden layers, \n",
    "    model = keras.Sequential(\n",
    "        [\n",
    "            layers.Dense(L1, activation=\"sigmoid\", name=\"layer1\", input_shape=(6,)),\n",
    "            layers.Dense(L2, activation=\"sigmoid\", name=\"layer2\"),\n",
    "            layers.Dense(L3, activation=\"sigmoid\", name=\"layer3\"),\n",
    "            layers.Dense(L4, activation=\"sigmoid\", name=\"layer4\"),\n",
    "            layers.Dense(1,name=\"layer5\"),\n",
    "        ]\n",
    "    )\n",
    "    model.compile(optimizer='adam', loss='mean_squared_error',metrics=['mean_squared_error'])\n",
    "    print (model.summary())\n",
    "    model.fit(x_train,y_train,epochs=epoch, validation_data=(x_test,y_test),batch_size=batch, shuffle=False)\n",
    "    model.save_weights(\"./saved_model\")\n",
    "    return model"
   ]
  },
  {
   "cell_type": "code",
   "execution_count": null,
   "metadata": {
    "scrolled": true
   },
   "outputs": [],
   "source": [
    "call_model(L1=256,L2=2000,L3=200,L4=8,batch=8000, epoch=300)\n"
   ]
  },
  {
   "cell_type": "markdown",
   "metadata": {},
   "source": [
    "The model is clearly lacking! It might be better to improve how it is modelling. Before that we need to test if the model can be loaded and predictions made with new data."
   ]
  },
  {
   "cell_type": "code",
   "execution_count": null,
   "metadata": {},
   "outputs": [],
   "source": [
    "model=keras.models.load_model(\"./saved_model\")"
   ]
  },
  {
   "cell_type": "code",
   "execution_count": null,
   "metadata": {},
   "outputs": [],
   "source": [
    "y_pred=model.predict(x_test)"
   ]
  },
  {
   "cell_type": "code",
   "execution_count": null,
   "metadata": {
    "scrolled": true
   },
   "outputs": [],
   "source": [
    "y_pred"
   ]
  },
  {
   "cell_type": "markdown",
   "metadata": {},
   "source": [
    "This doesn't work at all but its not as important as being able to call the model. The question to answer is where are we going to save the model- what would a solution look like?"
   ]
  },
  {
   "cell_type": "code",
   "execution_count": null,
   "metadata": {},
   "outputs": [],
   "source": [
    "oil_data=pd.read_csv(\"https://www.quandl.com/api/v3/datasets/OPEC/ORB.csv?api_key=Another api key from Quandl\")"
   ]
  },
  {
   "cell_type": "code",
   "execution_count": null,
   "metadata": {},
   "outputs": [],
   "source": [
    "oil_data.head()\n"
   ]
  },
  {
   "cell_type": "code",
   "execution_count": null,
   "metadata": {},
   "outputs": [],
   "source": [
    "bp_eGen=pd.read_csv(\"https://www.quandl.com/api/v3/datasets/BP/ELEC_GEN_GBR.csv?api_key=Another api key from Quandl\")"
   ]
  },
  {
   "cell_type": "code",
   "execution_count": null,
   "metadata": {},
   "outputs": [],
   "source": [
    "# Yearly generation\n",
    "bp_eGen"
   ]
  },
  {
   "cell_type": "code",
   "execution_count": null,
   "metadata": {},
   "outputs": [],
   "source": [
    "plt.scatter(X[\"Units(MWh)\"],y)\n",
    "plt.xlabel(\"Units\")\n",
    "plt.ylabel(\"Price(GBP)\")"
   ]
  },
  {
   "cell_type": "code",
   "execution_count": null,
   "metadata": {},
   "outputs": [],
   "source": [
    "y.mean()"
   ]
  },
  {
   "cell_type": "code",
   "execution_count": null,
   "metadata": {},
   "outputs": [],
   "source": [
    "y.std()"
   ]
  },
  {
   "cell_type": "code",
   "execution_count": null,
   "metadata": {
    "scrolled": true
   },
   "outputs": [],
   "source": [
    "y.max()"
   ]
  },
  {
   "cell_type": "code",
   "execution_count": null,
   "metadata": {
    "scrolled": true
   },
   "outputs": [],
   "source": [
    "y.argmax()"
   ]
  },
  {
   "cell_type": "code",
   "execution_count": null,
   "metadata": {},
   "outputs": [],
   "source": [
    "X[78106:78120]"
   ]
  },
  {
   "cell_type": "markdown",
   "metadata": {},
   "source": []
  },
  {
   "cell_type": "code",
   "execution_count": null,
   "metadata": {},
   "outputs": [],
   "source": [
    "def get_predicted_load_next_day():\n",
    "    api_key= \"Please request your api key\"\n",
    "    \n",
    "    base_url=\"https://api.bmreports.com\"\n",
    "    tdelta=timedelta(days=1)\n",
    "    settlementdate=(datetime.date.today()+tdelta).isoformat()\n",
    "    tab=pd.read_csv(f\"{base_url}/BMRS/B0620/V1?ServiceType=CSV&Period=*&APIKey={api_key}&SettlementDate={settlementdate}\",skiprows=4)\n",
    "    filtered_tab=tab[[\"Settlement Date\", \"Settlement Period\", \"Quantity\"]]\n",
    "    filtered_tab=filtered_tab.dropna(subset=[\"Settlement Date\"])\n",
    "    \n",
    "    return filtered_tab"
   ]
  },
  {
   "cell_type": "code",
   "execution_count": null,
   "metadata": {},
   "outputs": [],
   "source": [
    "api_key= \"Please request your api key\"\n",
    "tdelta=timedelta(days=1)\n",
    "settlementdate=(date.today()).isoformat()\n",
    "    \n",
    "base_url=\"https://api.bmreports.com\"\n",
    "response=requests.get(f\"https://api.bmreports.com/BMRS/B0620/V1?ServiceType=CSV&Period=*&APIKey={api_key}&SettlementDate={settlementdate}\")"
   ]
  },
  {
   "cell_type": "code",
   "execution_count": null,
   "metadata": {},
   "outputs": [],
   "source": [
    "len(response.text)"
   ]
  },
  {
   "cell_type": "code",
   "execution_count": null,
   "metadata": {},
   "outputs": [],
   "source": [
    "print(response.text)\n"
   ]
  },
  {
   "cell_type": "code",
   "execution_count": null,
   "metadata": {},
   "outputs": [],
   "source": [
    "print(settlementdate)"
   ]
  },
  {
   "cell_type": "code",
   "execution_count": null,
   "metadata": {},
   "outputs": [],
   "source": [
    "filtered_tab= get_predicted_load_next_day()"
   ]
  },
  {
   "cell_type": "code",
   "execution_count": null,
   "metadata": {},
   "outputs": [],
   "source": [
    "filtered_tab"
   ]
  },
  {
   "cell_type": "code",
   "execution_count": null,
   "metadata": {},
   "outputs": [],
   "source": [
    "# Ceil division to get the hour\n",
    "filtered_tab[\"Hour\"]=[-(-x//2) for x in filtered_tab[\"Settlement Period\"]]"
   ]
  },
  {
   "cell_type": "code",
   "execution_count": null,
   "metadata": {
    "scrolled": true
   },
   "outputs": [],
   "source": [
    "filtered_tab.head()"
   ]
  },
  {
   "cell_type": "code",
   "execution_count": null,
   "metadata": {},
   "outputs": [],
   "source": [
    "def get_wday_wk_doy(x):\n",
    "    x=datetime.date.fromisoformat(x)\n",
    "    year=x.isocalendar()[0]\n",
    "    week=x.isocalendar()[1]\n",
    "    wday=x.isocalendar()[2]    \n",
    "    doy=x.timetuple().tm_yday\n",
    "    return year,week,wday,doy"
   ]
  },
  {
   "cell_type": "code",
   "execution_count": null,
   "metadata": {},
   "outputs": [],
   "source": [
    "filtered_tab[\"week\"],filtered_tab[\"wday\"],filtered_tab[\"doy\"]=zip(*filtered_tab[\"Settlement Date\"].map(get_wday_wk_doy))"
   ]
  },
  {
   "cell_type": "code",
   "execution_count": null,
   "metadata": {},
   "outputs": [],
   "source": [
    "filtered_tab.head()"
   ]
  },
  {
   "cell_type": "code",
   "execution_count": null,
   "metadata": {},
   "outputs": [],
   "source": [
    "type(filtered_tab[\"Settlement Date\"][1])\n",
    "\n"
   ]
  },
  {
   "cell_type": "code",
   "execution_count": null,
   "metadata": {
    "scrolled": true
   },
   "outputs": [],
   "source": [
    "print([x for x in filtered_tab[\"Settlement Date\"]])"
   ]
  },
  {
   "cell_type": "code",
   "execution_count": null,
   "metadata": {},
   "outputs": [],
   "source": [
    "filtered_tab[\"Year\"]=[int(x[0:4]) for x in filtered_tab[\"Settlement Date\"]]\n",
    "filtered_tab[\"Month\"]=[int(x[5:7]) for x in filtered_tab[\"Settlement Date\"]]\n",
    "filtered_tab[\"Day\"]=[int(x[8:10]) for x in filtered_tab[\"Settlement Date\"]]"
   ]
  },
  {
   "cell_type": "code",
   "execution_count": null,
   "metadata": {},
   "outputs": [],
   "source": [
    "tab=pd.read_csv(f\"{base_url}/BMRS/B0620/V1?ServiceType=CSV&Period=*&APIKey={api_key}&SettlementDate={settlementdate}\",skiprows=4)\n",
    "tab"
   ]
  }
 ],
 "metadata": {
  "kernelspec": {
   "display_name": "Python 3",
   "language": "python",
   "name": "python3"
  },
  "language_info": {
   "codemirror_mode": {
    "name": "ipython",
    "version": 3
   },
   "file_extension": ".py",
   "mimetype": "text/x-python",
   "name": "python",
   "nbconvert_exporter": "python",
   "pygments_lexer": "ipython3",
   "version": "3.8.5"
  }
 },
 "nbformat": 4,
 "nbformat_minor": 4
}
